{
 "cells": [
  {
   "cell_type": "markdown",
   "metadata": {},
   "source": [
    "# Sparse Distributed Memory:  How many subspaces?\n",
    "\n",
    "In his original analysis, Kanerva uses... \n",
    "  ...1,000 dimensions\n",
    "  ...1,000,000 circles \n",
    "  ...with radius=451 bits so that a random bistring will be stored in aproximately 1,000 hard locations. \n",
    "\n",
    "A first observation here is that powers of 10 are not well suited, either for the mathematical analysis of the space, or for computer science. Let us play a little with numbers here, starting from Kanerva's parameters.  Our goal will be to find how many circles we should use and the radius of a circle.  Can we find some optimum set of parameters? "
   ]
  },
  {
   "cell_type": "code",
   "execution_count": 1,
   "metadata": {},
   "outputs": [
    {
     "name": "stdout",
     "output_type": "stream",
     "text": [
      "number of dimensions= 1000\n"
     ]
    }
   ],
   "source": [
    "n = 1000 # number of dimensions\n",
    "print ('number of dimensions=',n)"
   ]
  },
  {
   "cell_type": "code",
   "execution_count": 2,
   "metadata": {},
   "outputs": [],
   "source": [
    "def mu(n):\n",
    "    return n/2\n",
    "\n",
    "import math \n",
    "\n",
    "def sigma(n):\n",
    "    return math.sqrt(n)/2\n",
    "\n",
    "def percentage_of_n(n):\n",
    "    return (100*(6*sigma(n))) / n\n"
   ]
  },
  {
   "cell_type": "code",
   "execution_count": 5,
   "metadata": {},
   "outputs": [],
   "source": [
    "def analysis(n):\n",
    "    print ('************ ANALYSIS FOR n=',n)\n",
    "    print ('orthoghonal distance=',mu(n))\n",
    "    print ('standard deviation=',sigma(n))\n",
    "    print ('3 sigma=', 3.09*sigma(n))\n",
    "    print ('the distance from a pole to the equator=', math.sqrt(n), 'standard deviations')\n",
    "    print ('the percentage of n (in relation to the range R Bits) is', percentage_of_n(n))# When using mu - 3 sigma...\n",
    "    print ('Because 3 standard deviations contain ~1/1000 of a normal distribution, ' \\\n",
    "            'approximately one in a thousand items will be found in a circle of', \\\n",
    "            mu(n)-3.09*sigma(n),' radius')\n",
    "    print ('...........................................\\n\\n\\n\\n')"
   ]
  },
  {
   "cell_type": "code",
   "execution_count": 6,
   "metadata": {},
   "outputs": [
    {
     "name": "stdout",
     "output_type": "stream",
     "text": [
      "************ ANALYSIS FOR n= 100\n",
      "orthoghonal distance= 50.0\n",
      "standard deviation= 5.0\n",
      "3 sigma= 15.45\n",
      "the distance from a pole to the equator= 10.0 standard deviations\n",
      "the percentage of n (in relation to the range R Bits) is 30.0\n",
      "Because 3 standard deviations contain ~1/1000 of a normal distribution, approximately one in a thousand items will be found in a circle of 34.55  radius\n",
      "...........................................\n",
      "\n",
      "\n",
      "\n",
      "\n",
      "************ ANALYSIS FOR n= 1000\n",
      "orthoghonal distance= 500.0\n",
      "standard deviation= 15.811388300841896\n",
      "3 sigma= 48.857189849601454\n",
      "the distance from a pole to the equator= 31.622776601683793 standard deviations\n",
      "the percentage of n (in relation to the range R Bits) is 9.486832980505138\n",
      "Because 3 standard deviations contain ~1/1000 of a normal distribution, approximately one in a thousand items will be found in a circle of 451.14281015039853  radius\n",
      "...........................................\n",
      "\n",
      "\n",
      "\n",
      "\n",
      "************ ANALYSIS FOR n= 10000\n",
      "orthoghonal distance= 5000.0\n",
      "standard deviation= 50.0\n",
      "3 sigma= 154.5\n",
      "the distance from a pole to the equator= 100.0 standard deviations\n",
      "the percentage of n (in relation to the range R Bits) is 3.0\n",
      "Because 3 standard deviations contain ~1/1000 of a normal distribution, approximately one in a thousand items will be found in a circle of 4845.5  radius\n",
      "...........................................\n",
      "\n",
      "\n",
      "\n",
      "\n",
      "************ ANALYSIS FOR n= 256\n",
      "orthoghonal distance= 128.0\n",
      "standard deviation= 8.0\n",
      "3 sigma= 24.72\n",
      "the distance from a pole to the equator= 16.0 standard deviations\n",
      "the percentage of n (in relation to the range R Bits) is 18.75\n",
      "Because 3 standard deviations contain ~1/1000 of a normal distribution, approximately one in a thousand items will be found in a circle of 103.28  radius\n",
      "...........................................\n",
      "\n",
      "\n",
      "\n",
      "\n",
      "************ ANALYSIS FOR n= 1024\n",
      "orthoghonal distance= 512.0\n",
      "standard deviation= 16.0\n",
      "3 sigma= 49.44\n",
      "the distance from a pole to the equator= 32.0 standard deviations\n",
      "the percentage of n (in relation to the range R Bits) is 9.375\n",
      "Because 3 standard deviations contain ~1/1000 of a normal distribution, approximately one in a thousand items will be found in a circle of 462.56  radius\n",
      "...........................................\n",
      "\n",
      "\n",
      "\n",
      "\n"
     ]
    }
   ],
   "source": [
    "for n in [100, 1000, 10000, 256, 1024]: \n",
    "    analysis(n)"
   ]
  },
  {
   "cell_type": "code",
   "execution_count": 86,
   "metadata": {},
   "outputs": [
    {
     "name": "stdout",
     "output_type": "stream",
     "text": [
      "************ ANALYSIS FOR n= 1024\n",
      "orthoghonal distance= 512.0\n",
      "standard deviation= 16.0\n",
      "3 sigma= 48.0\n",
      "the distance from a pole to the equator= 32.0 standard deviations\n",
      "the percentage of n (in relation to the range R Bits) is 9.375\n",
      "Because 3 standard deviations contain ~1/1000 of a normal distribution, approximately one in a thousand items will be found in a circle of 464.0  radius\n",
      "###############################################################\n"
     ]
    }
   ],
   "source": [
    "print_analysis(1024)"
   ]
  },
  {
   "cell_type": "markdown",
   "metadata": {},
   "source": [
    "Let us focus on the word *aproximately*.  The estimation is given by usual tables with metrics of the normal curve. \n",
    "\n",
    "The *unit* of analysis provided is that of the standard deviation. \n",
    "\n",
    "Our intention is to make the bit the unit of analysis, and estimate the statistcs of the system in a more precise form."
   ]
  },
  {
   "cell_type": "code",
   "execution_count": null,
   "metadata": {},
   "outputs": [],
   "source": []
  }
 ],
 "metadata": {
  "kernelspec": {
   "display_name": "Python 3",
   "language": "python",
   "name": "python3"
  },
  "language_info": {
   "codemirror_mode": {
    "name": "ipython",
    "version": 3
   },
   "file_extension": ".py",
   "mimetype": "text/x-python",
   "name": "python",
   "nbconvert_exporter": "python",
   "pygments_lexer": "ipython3",
   "version": "3.6.1"
  }
 },
 "nbformat": 4,
 "nbformat_minor": 2
}
